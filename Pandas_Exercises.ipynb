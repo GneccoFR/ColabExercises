{
  "nbformat": 4,
  "nbformat_minor": 0,
  "metadata": {
    "colab": {
      "provenance": [],
      "authorship_tag": "ABX9TyOtuwlvfQO0cduveo4Whby7",
      "include_colab_link": true
    },
    "kernelspec": {
      "name": "python3",
      "display_name": "Python 3"
    },
    "language_info": {
      "name": "python"
    }
  },
  "cells": [
    {
      "cell_type": "markdown",
      "metadata": {
        "id": "view-in-github",
        "colab_type": "text"
      },
      "source": [
        "<a href=\"https://colab.research.google.com/github/GneccoFR/ColabExercises/blob/Pandas-Exercises/Pandas_Exercises.ipynb\" target=\"_parent\"><img src=\"https://colab.research.google.com/assets/colab-badge.svg\" alt=\"Open In Colab\"/></a>"
      ]
    },
    {
      "cell_type": "code",
      "execution_count": null,
      "metadata": {
        "colab": {
          "base_uri": "https://localhost:8080/"
        },
        "id": "DaSKVDyCG7zH",
        "outputId": "af263405-8c72-457e-f23c-76b9ed32ad88"
      },
      "outputs": [
        {
          "output_type": "stream",
          "name": "stdout",
          "text": [
            "Importing Pandas and Numpy \n",
            "\n",
            "Creating a Dataframe: \n",
            "\n",
            "   temperature  activity\n",
            "0            0         3\n",
            "1           10         7\n",
            "2           20         9\n",
            "3           30        14\n",
            "4           40        15 \n",
            "\n",
            "Adding a new column to the DataFrame: \n",
            "\n",
            "   temperature  activity  adjusted\n",
            "0            0         3         5\n",
            "1           10         7         9\n",
            "2           20         9        11\n",
            "3           30        14        16\n",
            "4           40        15        17 \n",
            "\n",
            "Specifying a subset of a DataFrame: \n",
            "\n",
            "Getting Rows #0, #1, and #2: \n",
            "\n",
            "   temperature  activity  adjusted\n",
            "0            0         3         5\n",
            "1           10         7         9\n",
            "2           20         9        11 \n",
            "\n",
            "Getting a Single Row: Row #2: \n",
            "\n",
            "   temperature  activity  adjusted\n",
            "2           20         9        11 \n",
            "\n",
            "Getting a range of elements: Rows #1, #2, and #3: \n",
            "\n",
            "   temperature  activity  adjusted\n",
            "1           10         7         9\n",
            "2           20         9        11\n",
            "3           30        14        16 \n",
            "\n",
            "Getting a Specific Column: Column 'temperature': \n",
            "\n",
            "0     0\n",
            "1    10\n",
            "2    20\n",
            "3    30\n",
            "4    40\n",
            "Name: temperature, dtype: int64 \n",
            "\n",
            "Creating a DataFrame: \n",
            "\n",
            "DataFrame result: \n",
            "\n",
            "   Eleanor  Chidi  Tahani  Jason\n",
            "0       33     61       5     23\n",
            "1       44      2      29     46\n",
            "2        3      8      45     69\n",
            "\n",
            "Second row of the Eleanor column: 44\n",
            "\n"
          ]
        }
      ],
      "source": [
        "#This is a series of exercises written in Python for Pandas using\n",
        "\n",
        "#First Exercise\n",
        "print('Importing Pandas and Numpy \\n')\n",
        "import numpy as np\n",
        "import pandas as pd\n",
        "\n",
        "#Second Exercise\n",
        "print('Creating a Dataframe: \\n')\n",
        "\n",
        "# First we create the array that will contain the data.\n",
        "my_data = np.array([[0, 3], [10, 7], [20, 9], [30, 14], [40, 15]])\n",
        "\n",
        "# Second, we create a list of the names for the columns of our Dataframe.\n",
        "my_column_names = ['temperature', 'activity']\n",
        "\n",
        "# Later, we create the Dataframe using the elements we created as arguments.\n",
        "my_dataframe = pd.DataFrame(data=my_data, columns=my_column_names)\n",
        "\n",
        "# At last, we print the result\n",
        "print(my_dataframe, '\\n')\n",
        "\n",
        "#Third Exercise\n",
        "print('Adding a new column to the DataFrame: \\n')\n",
        "\n",
        "my_dataframe[\"adjusted\"] = my_dataframe[\"activity\"] + 2\n",
        "print(my_dataframe, '\\n')\n",
        "\n",
        "#Fourth Exercise\n",
        "print('Specifying a subset of a DataFrame: \\n')\n",
        "\n",
        "print(\"Getting Rows #0, #1, and #2: \\n\")\n",
        "print(my_dataframe.head(3), '\\n')\n",
        "\n",
        "print(\"Getting a Single Row: Row #2: \\n\")\n",
        "print(my_dataframe.iloc[[2]], '\\n')\n",
        "\n",
        "print(\"Getting a range of elements: Rows #1, #2, and #3: \\n\")\n",
        "print(my_dataframe[1:4], '\\n')\n",
        "\n",
        "print(\"Getting a Specific Column: Column 'temperature': \\n\")\n",
        "print(my_dataframe['temperature'], '\\n')\n",
        "\n",
        "#Fifth Exercise\n",
        "print(\"Creating a DataFrame: \\n\")\n",
        "\n",
        "column_names = [ 'Eleanor', 'Chidi', 'Tahani', 'Jason']\n",
        "\n",
        "my_data = np.random.randint(low=0, high=101, size=(3, 4))\n",
        "\n",
        "df = pd.DataFrame(data=my_data, columns=column_names)\n",
        "\n",
        "print(\"DataFrame result: \\n\")\n",
        "\n",
        "print(df)\n",
        "\n",
        "print(\"\\nSecond row of the Eleanor column: %d\\n\" % df['Eleanor'][1])\n"
      ]
    }
  ]
}