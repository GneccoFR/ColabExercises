{
  "nbformat": 4,
  "nbformat_minor": 0,
  "metadata": {
    "colab": {
      "provenance": [],
      "authorship_tag": "ABX9TyMU9sl0R053Mg6f9WTREyvW",
      "include_colab_link": true
    },
    "kernelspec": {
      "name": "python3",
      "display_name": "Python 3"
    },
    "language_info": {
      "name": "python"
    }
  },
  "cells": [
    {
      "cell_type": "markdown",
      "metadata": {
        "id": "view-in-github",
        "colab_type": "text"
      },
      "source": [
        "<a href=\"https://colab.research.google.com/github/GneccoFR/ColabExercises/blob/Numpy-Exercises/ColabExercises.ipynb\" target=\"_parent\"><img src=\"https://colab.research.google.com/assets/colab-badge.svg\" alt=\"Open In Colab\"/></a>"
      ]
    },
    {
      "cell_type": "code",
      "execution_count": 28,
      "metadata": {
        "id": "v2vr0qGsX2Aa",
        "colab": {
          "base_uri": "https://localhost:8080/"
        },
        "outputId": "b19e721b-2797-4b05-b327-b9ae7f222dd7"
      },
      "outputs": [
        {
          "output_type": "stream",
          "name": "stdout",
          "text": [
            "Asignation exercise:\n",
            "spam and eggs\n",
            "\n",
            "Numpy exercise: Import\n",
            "\n",
            "Numpy exercise: One Dimensional Arrays\n",
            "[1.2 2.4 3.5 4.7 6.1 7.2 8.3 9.5]\n",
            "\n",
            "Numpy exercise: Two Dimensional Arrays:\n",
            "[[ 6  5  8]\n",
            " [11  7  1]\n",
            " [ 4  8  7]]\n",
            "\n",
            "Numpy exercise: Populate an Array with a sequence:\n",
            "[ 5  6  7  8  9 10 11]\n",
            "\n",
            "Numpy exercise: Populate an Array with random integer numbers:\n",
            "[69 87 98 59 68 96 53 55 65 76]\n",
            "\n",
            "Numpy exercise: Populate an Array with random float values:\n",
            "[0.72996729 0.40691752 0.12382756 0.24847523 0.25496297 0.79013375\n",
            " 0.34304411 0.19699985 0.86073173 0.10056611]\n",
            "\n",
            "Numpy exercise: Using broadcasting on Numpy Operands(+):\n",
            "[2.72996729 2.40691752 2.12382756 2.24847523 2.25496297 2.79013375\n",
            " 2.34304411 2.19699985 2.86073173 2.10056611]\n",
            "\n",
            "Numpy exercise: Using broadcasting on Numpy Operands(*):\n",
            "[207 261 294 177 204 288 159 165 195 228]\n",
            "\n",
            "Numpy exercise: Creating a Linear Dataset:\n",
            "[ 6  7  8  9 10 11 12 13 14 15 16 17 18 19 20]\n",
            "[22 25 28 31 34 37 40 43 46 49 52 55 58 61 64]\n",
            "\n",
            "Numpy exercise: Adding Noise to the Dataset:\n",
            "Noise:\n",
            "[ 0.85818659  0.70768673 -1.65003848  0.10526233  1.53080374  0.0913319\n",
            " -0.74656504 -0.52275985  0.76721364 -1.98095942  0.84587738  1.98819621\n",
            "  1.19307024  0.96291052  1.06741007]\n",
            "Label:\n",
            "[22.85818659 25.70768673 26.34996152 31.10526233 35.53080374 37.0913319\n",
            " 39.25343496 42.47724015 46.76721364 47.01904058 52.84587738 56.98819621\n",
            " 59.19307024 61.96291052 65.06741007]\n"
          ]
        }
      ],
      "source": [
        "#This is a series of exercises written in Python\n",
        "\n",
        "#First Exercise:\n",
        "print(\"Asignation exercise:\")\n",
        "x='spam'\n",
        "y=' and eggs'\n",
        "print(x+y)\n",
        "print()\n",
        "\n",
        "#Second Exercise:\n",
        "print(\"Numpy exercise: Import\")\n",
        "import numpy as np\n",
        "print()\n",
        "\n",
        "#Third Exercise:\n",
        "print(\"Numpy exercise: One Dimensional Arrays\")\n",
        "one_dimensional_array = np.array([1.2, 2.4, 3.5, 4.7, 6.1, 7.2, 8.3, 9.5])\n",
        "print(one_dimensional_array)\n",
        "print()\n",
        "\n",
        "#Fourth Exercise:\n",
        "print(\"Numpy exercise: Two Dimensional Arrays:\")\n",
        "two_dimensional_array = np.array([[6, 5, 8], [11, 7, 1], [4, 8, 7]])\n",
        "print(two_dimensional_array)\n",
        "print()\n",
        "\n",
        "#Fifth Exercise:\n",
        "print(\"Numpy exercise: Populate an Array with a sequence:\")\n",
        "sequence_of_integers = np.arange(5, 12)\n",
        "print(sequence_of_integers)\n",
        "print()\n",
        "\n",
        "#Sixth Exercise:\n",
        "print(\"Numpy exercise: Populate an Array with random integer numbers:\")\n",
        "random_integers_between_50_and_100 = np.random.randint(low=50, high=101, size=(10,))\n",
        "print(random_integers_between_50_and_100)\n",
        "print()\n",
        "\n",
        "#Seventh Exercise:\n",
        "print(\"Numpy exercise: Populate an Array with random float values:\")\n",
        "random_floats_between_0_and_1 = np.random.random((10,))\n",
        "print(random_floats_between_0_and_1)\n",
        "print()\n",
        "\n",
        "#Eighth Exercise:\n",
        "print(\"Numpy exercise: Using broadcasting on Numpy Operands(+):\")\n",
        "random_floats_between_2_and_3 = random_floats_between_0_and_1 + 2.0\n",
        "print(random_floats_between_2_and_3)\n",
        "print()\n",
        "\n",
        "#Ninth Exercise:\n",
        "print(\"Numpy exercise: Using broadcasting on Numpy Operands(*):\")\n",
        "random_integers_between_150_and_300 = random_integers_between_50_and_100 * 3\n",
        "print(random_integers_between_150_and_300)\n",
        "print()\n",
        "\n",
        "#Tenth Exercise:\n",
        "print(\"Numpy exercise: Creating a Linear Dataset:\")\n",
        "feature = np.arange(6, 21)\n",
        "print(feature)\n",
        "label = (feature *3) + 4\n",
        "print(label)\n",
        "print()\n",
        "\n",
        "#Tenth Exercise:\n",
        "print(\"Numpy exercise: Adding Noise to the Dataset:\")\n",
        "noise = (np.random.random([15]) * 4) - 2\n",
        "print('Noise:')\n",
        "print(noise)\n",
        "label = label + noise\n",
        "print('Label:')\n",
        "print(label)"
      ]
    }
  ]
}