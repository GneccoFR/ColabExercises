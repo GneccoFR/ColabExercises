{
  "nbformat": 4,
  "nbformat_minor": 0,
  "metadata": {
    "colab": {
      "provenance": [],
      "authorship_tag": "ABX9TyPbJ5octN3fGwVCMd52EMrQ",
      "include_colab_link": true
    },
    "kernelspec": {
      "name": "python3",
      "display_name": "Python 3"
    },
    "language_info": {
      "name": "python"
    }
  },
  "cells": [
    {
      "cell_type": "markdown",
      "metadata": {
        "id": "view-in-github",
        "colab_type": "text"
      },
      "source": [
        "<a href=\"https://colab.research.google.com/github/GneccoFR/ColabExercises/blob/Numpy-Exercises/ColabExercises.ipynb\" target=\"_parent\"><img src=\"https://colab.research.google.com/assets/colab-badge.svg\" alt=\"Open In Colab\"/></a>"
      ]
    },
    {
      "cell_type": "code",
      "execution_count": 2,
      "metadata": {
        "id": "v2vr0qGsX2Aa",
        "colab": {
          "base_uri": "https://localhost:8080/"
        },
        "outputId": "19b6612b-cb36-4762-be4d-9b215313e9ad"
      },
      "outputs": [
        {
          "output_type": "stream",
          "name": "stdout",
          "text": [
            "Asignation exercise:\n",
            "spam and eggs \n",
            "\n",
            "Numpy exercise: Import \n",
            "\n",
            "Numpy exercise: One Dimensional Arrays\n",
            "[1.2 2.4 3.5 4.7 6.1 7.2 8.3 9.5] \n",
            "\n",
            "Numpy exercise: Two Dimensional Arrays:\n",
            "[[ 6  5  8]\n",
            " [11  7  1]\n",
            " [ 4  8  7]] \n",
            "\n",
            "Numpy exercise: Populate an Array with a sequence:\n",
            "[ 5  6  7  8  9 10 11] \n",
            "\n",
            "Numpy exercise: Populate an Array with random integer numbers:\n",
            "[74 76 97 53 94 56 50 89 69 93] \n",
            "\n",
            "Numpy exercise: Populate an Array with random float values:\n",
            "[0.48065006 0.8150095  0.49492351 0.62921067 0.88715775 0.38506146\n",
            " 0.5539791  0.84068009 0.13716456 0.88342241] \n",
            "\n",
            "Numpy exercise: Using broadcasting on Numpy Operands(+):\n",
            "[2.48065006 2.8150095  2.49492351 2.62921067 2.88715775 2.38506146\n",
            " 2.5539791  2.84068009 2.13716456 2.88342241] \n",
            "\n",
            "Numpy exercise: Using broadcasting on Numpy Operands(*):\n",
            "[222 228 291 159 282 168 150 267 207 279] \n",
            "\n",
            "Numpy exercise: Creating a Linear Dataset:\n",
            "[ 6  7  8  9 10 11 12 13 14 15 16 17 18 19 20]\n",
            "[22 25 28 31 34 37 40 43 46 49 52 55 58 61 64] \n",
            "\n",
            "Numpy exercise: Adding Noise to the Dataset: \n",
            "\n",
            "Noise:\n",
            "[ 1.05019841  1.05074321  1.91618729 -1.09858011  0.79602649  0.39052909\n",
            " -0.78124077 -0.91278009 -0.01370246 -0.16441812  1.49166746  0.70884525\n",
            "  0.36125568 -1.6799667  -0.56628605] \n",
            "\n",
            "Label:\n",
            "[23.05019841 26.05074321 29.91618729 29.90141989 34.79602649 37.39052909\n",
            " 39.21875923 42.08721991 45.98629754 48.83558188 53.49166746 55.70884525\n",
            " 58.36125568 59.3200333  63.43371395]\n"
          ]
        }
      ],
      "source": [
        "#This is a series of exercises written in Python\n",
        "\n",
        "#First Exercise:\n",
        "print(\"Asignation exercise:\")\n",
        "x='spam'\n",
        "y=' and eggs'\n",
        "print(x+y, '\\n')\n",
        "\n",
        "#Second Exercise:\n",
        "print(\"Numpy exercise: Import \\n\")\n",
        "import numpy as np\n",
        "\n",
        "#Third Exercise:\n",
        "print(\"Numpy exercise: One Dimensional Arrays\")\n",
        "one_dimensional_array = np.array([1.2, 2.4, 3.5, 4.7, 6.1, 7.2, 8.3, 9.5])\n",
        "print(one_dimensional_array, '\\n')\n",
        "\n",
        "#Fourth Exercise:\n",
        "print(\"Numpy exercise: Two Dimensional Arrays:\")\n",
        "two_dimensional_array = np.array([[6, 5, 8], [11, 7, 1], [4, 8, 7]])\n",
        "print(two_dimensional_array, '\\n')\n",
        "\n",
        "#Fifth Exercise:\n",
        "print(\"Numpy exercise: Populate an Array with a sequence:\")\n",
        "sequence_of_integers = np.arange(5, 12)\n",
        "print(sequence_of_integers, '\\n')\n",
        "\n",
        "#Sixth Exercise:\n",
        "print(\"Numpy exercise: Populate an Array with random integer numbers:\")\n",
        "random_integers_between_50_and_100 = np.random.randint(low=50, high=101, size=(10,))\n",
        "print(random_integers_between_50_and_100, '\\n')\n",
        "\n",
        "#Seventh Exercise:\n",
        "print(\"Numpy exercise: Populate an Array with random float values:\")\n",
        "random_floats_between_0_and_1 = np.random.random((10,))\n",
        "print(random_floats_between_0_and_1, '\\n')\n",
        "\n",
        "#Eighth Exercise:\n",
        "print(\"Numpy exercise: Using broadcasting on Numpy Operands(+):\")\n",
        "random_floats_between_2_and_3 = random_floats_between_0_and_1 + 2.0\n",
        "print(random_floats_between_2_and_3, '\\n')\n",
        "\n",
        "#Ninth Exercise:\n",
        "print(\"Numpy exercise: Using broadcasting on Numpy Operands(*):\")\n",
        "random_integers_between_150_and_300 = random_integers_between_50_and_100 * 3\n",
        "print(random_integers_between_150_and_300, '\\n')\n",
        "\n",
        "#Tenth Exercise:\n",
        "print(\"Numpy exercise: Creating a Linear Dataset:\")\n",
        "feature = np.arange(6, 21)\n",
        "print(feature)\n",
        "label = (feature *3) + 4\n",
        "print(label, '\\n')\n",
        "\n",
        "#Tenth Exercise:\n",
        "print(\"Numpy exercise: Adding Noise to the Dataset: \\n\")\n",
        "noise = (np.random.random([15]) * 4) - 2\n",
        "print('Noise:')\n",
        "print(noise, '\\n')\n",
        "label = label + noise\n",
        "print('Label:')\n",
        "print(label)"
      ]
    }
  ]
}