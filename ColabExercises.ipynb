{
  "nbformat": 4,
  "nbformat_minor": 0,
  "metadata": {
    "colab": {
      "provenance": [],
      "authorship_tag": "ABX9TyOH/80uYv5zuW1nt4PMge4y",
      "include_colab_link": true
    },
    "kernelspec": {
      "name": "python3",
      "display_name": "Python 3"
    },
    "language_info": {
      "name": "python"
    }
  },
  "cells": [
    {
      "cell_type": "markdown",
      "metadata": {
        "id": "view-in-github",
        "colab_type": "text"
      },
      "source": [
        "<a href=\"https://colab.research.google.com/github/GneccoFR/ColabExercises/blob/Numpy-Exercises/ColabExercises.ipynb\" target=\"_parent\"><img src=\"https://colab.research.google.com/assets/colab-badge.svg\" alt=\"Open In Colab\"/></a>"
      ]
    },
    {
      "cell_type": "code",
      "execution_count": 20,
      "metadata": {
        "id": "v2vr0qGsX2Aa",
        "colab": {
          "base_uri": "https://localhost:8080/"
        },
        "outputId": "5dd879ba-526e-47c7-e80a-cbfa8b5f0ec3"
      },
      "outputs": [
        {
          "output_type": "stream",
          "name": "stdout",
          "text": [
            "Asignation exercise:\n",
            "spam and eggs\n",
            "\n",
            "Numpy exercise: Import\n",
            "\n",
            "Numpy exercise: One Dimensional Arrays\n",
            "[1.2 2.4 3.5 4.7 6.1 7.2 8.3 9.5]\n",
            "\n",
            "Numpy exercise: Two Dimensional Arrays:\n",
            "[[ 6  5  8]\n",
            " [11  7  1]\n",
            " [ 4  8  7]]\n",
            "\n",
            "Numpy exercise: Populate an Array with a sequence:\n",
            "[ 5  6  7  8  9 10 11]\n",
            "\n",
            "Numpy exercise: Populate an Array with random integer numbers:\n",
            "[ 76  79  80  58  54 100  83  58  72  53]\n",
            "\n",
            "Numpy exercise: Populate an Array with random float values:\n",
            "[0.76581502 0.90977403 0.99188945 0.64813482 0.86280483 0.22723693\n",
            " 0.41251295 0.43985361 0.92170118 0.16656307]\n",
            "\n",
            "Numpy exercise: Using broadcasting on Numpy Operands(+):\n",
            "[2.76581502 2.90977403 2.99188945 2.64813482 2.86280483 2.22723693\n",
            " 2.41251295 2.43985361 2.92170118 2.16656307]\n",
            "\n",
            "Numpy exercise: Using broadcasting on Numpy Operands(*):\n",
            "[228 237 240 174 162 300 249 174 216 159]\n",
            "\n"
          ]
        }
      ],
      "source": [
        "#This is a series of exercises written in Python\n",
        "\n",
        "#First Exercise:\n",
        "print(\"Asignation exercise:\")\n",
        "x='spam'\n",
        "y=' and eggs'\n",
        "print(x+y)\n",
        "print()\n",
        "\n",
        "#Second Exercise:\n",
        "print(\"Numpy exercise: Import\")\n",
        "import numpy as np\n",
        "print()\n",
        "\n",
        "#Third Exercise:\n",
        "print(\"Numpy exercise: One Dimensional Arrays\")\n",
        "one_dimensional_array = np.array([1.2, 2.4, 3.5, 4.7, 6.1, 7.2, 8.3, 9.5])\n",
        "print(one_dimensional_array)\n",
        "print()\n",
        "\n",
        "#Fourth Exercise:\n",
        "print(\"Numpy exercise: Two Dimensional Arrays:\")\n",
        "two_dimensional_array = np.array([[6, 5, 8], [11, 7, 1], [4, 8, 7]])\n",
        "print(two_dimensional_array)\n",
        "print()\n",
        "\n",
        "#Fifth Exercise:\n",
        "print(\"Numpy exercise: Populate an Array with a sequence:\")\n",
        "sequence_of_integers = np.arange(5, 12)\n",
        "print(sequence_of_integers)\n",
        "print()\n",
        "\n",
        "#Sixth Exercise:\n",
        "print(\"Numpy exercise: Populate an Array with random integer numbers:\")\n",
        "random_integers_between_50_and_100 = np.random.randint(low=50, high=101, size=(10,))\n",
        "print(random_integers_between_50_and_100)\n",
        "print()\n",
        "\n",
        "#Seventh Exercise:\n",
        "print(\"Numpy exercise: Populate an Array with random float values:\")\n",
        "random_floats_between_0_and_1 = np.random.random((10,))\n",
        "print(random_floats_between_0_and_1)\n",
        "print()\n",
        "\n",
        "#Eighth Exercise:\n",
        "print(\"Numpy exercise: Using broadcasting on Numpy Operands(+):\")\n",
        "random_floats_between_2_and_3 = random_floats_between_0_and_1 + 2.0\n",
        "print(random_floats_between_2_and_3)\n",
        "print()\n",
        "\n",
        "#Ninth Exercise:\n",
        "print(\"Numpy exercise: Using broadcasting on Numpy Operands(*):\")\n",
        "random_integers_between_150_and_300 = random_integers_between_50_and_100 * 3\n",
        "print(random_integers_between_150_and_300)\n",
        "print()"
      ]
    }
  ]
}