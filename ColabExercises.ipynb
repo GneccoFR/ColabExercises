{
  "nbformat": 4,
  "nbformat_minor": 0,
  "metadata": {
    "colab": {
      "provenance": [],
      "authorship_tag": "ABX9TyNimdsZWv91hTJV8mHp7yWa",
      "include_colab_link": true
    },
    "kernelspec": {
      "name": "python3",
      "display_name": "Python 3"
    },
    "language_info": {
      "name": "python"
    }
  },
  "cells": [
    {
      "cell_type": "markdown",
      "metadata": {
        "id": "view-in-github",
        "colab_type": "text"
      },
      "source": [
        "<a href=\"https://colab.research.google.com/github/GneccoFR/ColabExercises/blob/Numpy-Exercises/ColabExercises.ipynb\" target=\"_parent\"><img src=\"https://colab.research.google.com/assets/colab-badge.svg\" alt=\"Open In Colab\"/></a>"
      ]
    },
    {
      "cell_type": "code",
      "execution_count": 16,
      "metadata": {
        "id": "v2vr0qGsX2Aa",
        "colab": {
          "base_uri": "https://localhost:8080/"
        },
        "outputId": "5b8a1798-eb86-4a8d-afb4-f38f5a503ad4"
      },
      "outputs": [
        {
          "output_type": "stream",
          "name": "stdout",
          "text": [
            "Asignation exercise:\n",
            "spam and eggs\n",
            "\n",
            "Numpy exercise: Import\n",
            "\n",
            "Numpy exercise: One Dimensional Arrays\n",
            "[1.2 2.4 3.5 4.7 6.1 7.2 8.3 9.5]\n",
            "\n",
            "Numpy exercise: Two Dimensional Arrays:\n",
            "[[ 6  5  8]\n",
            " [11  7  1]\n",
            " [ 4  8  7]]\n",
            "\n",
            "Numpy exercise: Populate an Array with a sequence:\n",
            "[ 5  6  7  8  9 10 11]\n"
          ]
        }
      ],
      "source": [
        "#This is a series of exercises written in Python\n",
        "\n",
        "#First Exercise:\n",
        "print(\"Asignation exercise:\")\n",
        "x='spam'\n",
        "y=' and eggs'\n",
        "print(x+y)\n",
        "print()\n",
        "\n",
        "#Second Exercise:\n",
        "print(\"Numpy exercise: Import\")\n",
        "import numpy as np\n",
        "print()\n",
        "\n",
        "#Third Exercise:\n",
        "print(\"Numpy exercise: One Dimensional Arrays\")\n",
        "one_dimensional_array = np.array([1.2, 2.4, 3.5, 4.7, 6.1, 7.2, 8.3, 9.5])\n",
        "print(one_dimensional_array)\n",
        "print()\n",
        "\n",
        "#Fourth Exercise:\n",
        "print(\"Numpy exercise: Two Dimensional Arrays:\")\n",
        "two_dimensional_array = np.array([[6, 5, 8], [11, 7, 1], [4, 8, 7]])\n",
        "print(two_dimensional_array)\n",
        "print()\n",
        "\n",
        "#Fifth Exercise:\n",
        "print(\"Numpy exercise: Populate an Array with a sequence:\")\n",
        "sequence_of_integers = np.arange(5, 12)\n",
        "print(sequence_of_integers)"
      ]
    }
  ]
}